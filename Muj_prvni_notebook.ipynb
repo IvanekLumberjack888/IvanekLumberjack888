{
  "nbformat": 4,
  "nbformat_minor": 0,
  "metadata": {
    "colab": {
      "provenance": []
    },
    "kernelspec": {
      "name": "python3",
      "display_name": "Python 3"
    },
    "language_info": {
      "name": "python"
    }
  },
  "cells": [
    {
      "cell_type": "code",
      "execution_count": 2,
      "metadata": {
        "id": "dt1Q4-ntbGFc",
        "colab": {
          "base_uri": "https://localhost:8080/",
          "height": 400
        },
        "outputId": "17b522bb-e521-4963-abbd-ebfc1c6b7248"
      },
      "outputs": [
        {
          "output_type": "stream",
          "name": "stdout",
          "text": [
            "##Ještě jsem ani nezačal a už jsem hotový! Ale hotový - znamená jen 👽 \n"
          ]
        },
        {
          "output_type": "execute_result",
          "data": {
            "text/html": [
              "<img src=\"https://media.giphy.com/media/elrFAUtV7ZOH7TSPhF/giphy.gif?cid=ecf05e47qqnt0p871zug501tn5xeo04lbks54w5hqebx7rbi&ep=v1_gifs_search&rid=giphy.gif&ct=g\"/>"
            ],
            "text/plain": [
              "<IPython.core.display.Image object>"
            ]
          },
          "metadata": {},
          "execution_count": 2
        }
      ],
      "source": [
        "print(\"##Ještě jsem ani nezačal a už jsem hotový! Ale hotový - znamená jen 👽\", \"\")\n",
        "from IPython.display import Image\n",
        "Image(url='https://media.giphy.com/media/elrFAUtV7ZOH7TSPhF/giphy.gif?cid=ecf05e47qqnt0p871zug501tn5xeo04lbks54w5hqebx7rbi&ep=v1_gifs_search&rid=giphy.gif&ct=g')  # external"
      ]
    },
    {
      "cell_type": "code",
      "source": [],
      "metadata": {
        "id": "AkoggNyqGnbd"
      },
      "execution_count": null,
      "outputs": []
    }
  ]
}