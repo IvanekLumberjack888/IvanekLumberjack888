{
  "nbformat": 4,
  "nbformat_minor": 0,
  "metadata": {
    "colab": {
      "provenance": [],
      "authorship_tag": "ABX9TyNYu07oLYAgSYy1KDo+zaU5"
    },
    "kernelspec": {
      "name": "python3",
      "display_name": "Python 3"
    },
    "language_info": {
      "name": "python"
    }
  },
  "cells": [
    {
      "cell_type": "code",
      "execution_count": 1,
      "metadata": {
        "id": "dt1Q4-ntbGFc",
        "colab": {
          "base_uri": "https://localhost:8080/",
          "height": 400
        },
        "outputId": "86408ade-ce9c-43d5-c192-ca184851674f"
      },
      "outputs": [
        {
          "output_type": "stream",
          "name": "stdout",
          "text": [
            "##Ještě jsem ani nezačal a už jsem hotový! Ale hotový - znamená jen 👽 \n"
          ]
        },
        {
          "output_type": "display_data",
          "data": {
            "text/plain": [
              "<IPython.core.display.HTML object>"
            ],
            "text/html": [
              "<img src=\"https://media.giphy.com/media/elrFAUtV7ZOH7TSPhF/giphy.gif?cid=ecf05e47qqnt0p871zug501tn5xeo04lbks54w5hqebx7rbi&ep=v1_gifs_search&rid=giphy.gif&ct=g\"/>"
            ]
          },
          "metadata": {}
        }
      ],
      "source": [
        "print(\"##Ještě jsem ani nezačal a už jsem hotový! Ale hotový - znamená jen 👽\", \"\")\n",
        "from IPython.display import display, HTML\n",
        "\n",
        "display(HTML('<img src=\"https://media.giphy.com/media/elrFAUtV7ZOH7TSPhF/giphy.gif?cid=ecf05e47qqnt0p871zug501tn5xeo04lbks54w5hqebx7rbi&ep=v1_gifs_search&rid=giphy.gif&ct=g\"/>'))  # external"
      ]
    },
    {
      "cell_type": "code",
      "source": [],
      "metadata": {
        "id": "AkoggNyqGnbd"
      },
      "execution_count": null,
      "outputs": []
    }
  ]
}